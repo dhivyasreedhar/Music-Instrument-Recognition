{
  "nbformat": 4,
  "nbformat_minor": 0,
  "metadata": {
    "colab": {
      "name": "spec.ipynb",
      "provenance": [],
      "mount_file_id": "1lJJ0sZah0s2ZU1eoqVgOQ0dKuIWpbtx0",
      "authorship_tag": "ABX9TyM8yq14+liCUU0cZ0noPXu3",
      "include_colab_link": true
    },
    "kernelspec": {
      "name": "python3",
      "display_name": "Python 3"
    },
    "language_info": {
      "name": "python"
    }
  },
  "cells": [
    {
      "cell_type": "markdown",
      "metadata": {
        "id": "view-in-github",
        "colab_type": "text"
      },
      "source": [
        "<a href=\"https://colab.research.google.com/github/dhivyasreedhar/Music-Instrument-Recognition/blob/main/spec.ipynb\" target=\"_parent\"><img src=\"https://colab.research.google.com/assets/colab-badge.svg\" alt=\"Open In Colab\"/></a>"
      ]
    },
    {
      "cell_type": "code",
      "metadata": {
        "id": "fcCRU_vCcBEW"
      },
      "source": [
        "import warnings\n",
        "warnings.filterwarnings('ignore')"
      ],
      "execution_count": 1,
      "outputs": []
    },
    {
      "cell_type": "code",
      "metadata": {
        "id": "ixevaBovwnIU"
      },
      "source": [
        "classes=['cello','flute','oboe','sax','trumpet','viola']"
      ],
      "execution_count": 2,
      "outputs": []
    },
    {
      "cell_type": "code",
      "metadata": {
        "id": "jm4fHRxu6WS-"
      },
      "source": [
        "# imports\n",
        "import numpy as np\n",
        "import matplotlib.pyplot as plt \n",
        "from glob import glob\n",
        "import librosa\n",
        "import librosa.display\n",
        "import IPython.display as ipd # needed to preview audio file\n",
        "import os"
      ],
      "execution_count": 3,
      "outputs": []
    },
    {
      "cell_type": "code",
      "metadata": {
        "id": "f9q82UNG6aE5"
      },
      "source": [
        "# Mel Spectrogram (less white around)\n",
        "\n",
        "def mel_spectrogram(audio_files):\n",
        "\n",
        "    image_path = fullPath + 'spectrograms/'\n",
        "    try:\n",
        "        os.makedirs(image_path)\n",
        "    except FileExistsError as exception:\n",
        "        print('')\n",
        "\n",
        "    for audio in audio_files:\n",
        "        y = audio[0]\n",
        "        sr = audio[1]\n",
        "        file = audio[2]\n",
        "\n",
        "        S = librosa.feature.melspectrogram(y=y, sr=sr)\n",
        "        fig, ax = plt.subplots(figsize=(15,7.5))\n",
        "        S_dB = librosa.power_to_db(S, ref=np.max)\n",
        "        img = librosa.display.specshow(S_dB, sr=sr)\n",
        "\n",
        "        fig.savefig(image_path + file[:-4] + '.png', transparent=True)\n",
        "        plt.close(fig)"
      ],
      "execution_count": 4,
      "outputs": []
    },
    {
      "cell_type": "code",
      "metadata": {
        "colab": {
          "base_uri": "https://localhost:8080/"
        },
        "id": "ShhxwpM86eY6",
        "outputId": "3bf7157d-72b4-415f-c16a-9113d851aa45"
      },
      "source": [
        "# load audio\n",
        "pathAudio = \"/content/drive/MyDrive/london_phill_dataset_multi\"\n",
        "folders = os.listdir(pathAudio)\n",
        "fullPath = pathAudio +  '/'\n",
        "files = os.listdir(fullPath)\n",
        "audio_files = []\n",
        "\n",
        "for file in files:\n",
        "        if '.mp3' in file:\n",
        "            temp = librosa.load(fullPath + file)\n",
        "            temp = list(temp)\n",
        "            temp.append(file)\n",
        "            temp = tuple(temp)\n",
        "            audio_files.append(temp)\n",
        "    \n",
        "print('Loaded files from \\'' + fullPath + '\\'')\n",
        "mel_spectrogram(audio_files)\n",
        "\n",
        "print('Saved spectrograms.')"
      ],
      "execution_count": 5,
      "outputs": [
        {
          "output_type": "stream",
          "text": [
            "Loaded files from '/content/drive/MyDrive/london_phill_dataset_multi/'\n",
            "\n",
            "Saved spectrograms.\n"
          ],
          "name": "stdout"
        }
      ]
    },
    {
      "cell_type": "code",
      "metadata": {
        "colab": {
          "base_uri": "https://localhost:8080/",
          "height": 557
        },
        "id": "BtITj1FKD0AS",
        "outputId": "0d70344c-6d29-482e-9dc5-3abfaa21ab70"
      },
      "source": [
        "img=image.load_img(\"/content/drive/MyDrive/london_phill_dataset_multi/spectrograms/cello_A2_025_forte_arco-normal.png\")\n",
        "img"
      ],
      "execution_count": 7,
      "outputs": [
        {
          "output_type": "execute_result",
          "data": {
            "image/png": "[encoded data removed]",
            "text/plain": [
              "<PIL.Image.Image image mode=RGB size=1080x540 at 0x7FF9C1FC35D0>"
            ]
          },
          "metadata": {
            "tags": []
          },
          "execution_count": 7
        }
      ]
    },
    {
      "cell_type": "code",
      "metadata": {
        "colab": {
          "base_uri": "https://localhost:8080/"
        },
        "id": "-kHKegsED6u3",
        "outputId": "eb23e0b4-b77e-4350-b5a6-c42a78108815"
      },
      "source": [
        "img_arr=image.img_to_array(img)\n",
        "print(img_arr.shape)"
      ],
      "execution_count": 8,
      "outputs": [
        {
          "output_type": "stream",
          "text": [
            "(540, 1080, 3)\n"
          ],
          "name": "stdout"
        }
      ]
    },
    {
      "cell_type": "code",
      "metadata": {
        "colab": {
          "base_uri": "https://localhost:8080/"
        },
        "id": "qkFynBSSEBLf",
        "outputId": "f743a06a-c81c-4cd0-cf07-f61962bd32a4"
      },
      "source": [
        "img_arr=np.expand_dims(img_arr,axis=0)\n",
        "print(img_arr.shape)"
      ],
      "execution_count": 9,
      "outputs": [
        {
          "output_type": "stream",
          "text": [
            "(1, 540, 1080, 3)\n"
          ],
          "name": "stdout"
        }
      ]
    }
  ]
}