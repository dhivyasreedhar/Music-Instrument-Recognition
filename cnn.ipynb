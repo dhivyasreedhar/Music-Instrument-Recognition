{
  "nbformat": 4,
  "nbformat_minor": 0,
  "metadata": {
    "colab": {
      "name": "cnn.ipynb",
      "provenance": [],
      "mount_file_id": "1ZQu-0TGruSQENyl8HDxP1s30o0XwTrGO",
      "authorship_tag": "ABX9TyNb39F9CZAmIqIWAMk/njRk",
      "include_colab_link": true
    },
    "kernelspec": {
      "name": "python3",
      "display_name": "Python 3"
    },
    "language_info": {
      "name": "python"
    }
  },
  "cells": [
    {
      "cell_type": "markdown",
      "metadata": {
        "id": "view-in-github",
        "colab_type": "text"
      },
      "source": [
        "<a href=\"https://colab.research.google.com/github/dhivyasreedhar/Music-Instrument-Recognition/blob/main/cnn.ipynb\" target=\"_parent\"><img src=\"https://colab.research.google.com/assets/colab-badge.svg\" alt=\"Open In Colab\"/></a>"
      ]
    },
    {
      "cell_type": "code",
      "metadata": {
        "colab": {
          "base_uri": "https://localhost:8080/"
        },
        "id": "UFqrtMNUSpL0",
        "outputId": "70727ab9-1363-411b-c484-c3bfdd03b8c5"
      },
      "source": [
        "import numpy as np\n",
        "import glob\n",
        "import matplotlib.pyplot as plt\n",
        "from skimage.color import rgb2grey\n",
        "from matplotlib.image import imread\n",
        "#!pip install -q keras\n",
        "from keras.models import Sequential\n",
        "from keras.models import Sequential\n",
        "from keras.layers import Conv2D, MaxPooling2D, Dense, Flatten, Activation, ReLU, Dropout\n",
        "from tensorflow.keras.utils import to_categorical\n",
        "\n",
        "class_names = ['flute', 'viola', 'cello', 'oboe', 'trumpet', 'saxophone']\n",
        "number_of_classes = len(class_names)\n",
        "\n",
        "instruments = {'flute':1, 'viola':2, 'cello':3, 'oboe':4, 'trumpet':5, 'saxophone':6}\n",
        "\n",
        "files = glob.glob('/content/drive/MyDrive/london_phill_dataset_multi/spectrograms/*.png')\n",
        "np.random.shuffle(files)\n",
        "\n",
        "data, labels = [], []\n",
        "\n",
        "loaded = 0\n",
        "\n",
        "print('Number of samples {0}'.format(len(files)))\n",
        "\n",
        "for file in files:\n",
        "  img, name = imread(file), file.split('/')[-1].split('_')[0]\n",
        "  data.append(rgb2grey(img))\n",
        "  labels.append(instruments[name] - 1)\n",
        "\n",
        "  loaded += 1\n",
        "  if loaded % 200 == 0:\n",
        "    print(loaded)\n",
        "\n",
        "  if loaded == 5000:\n",
        "    break\n",
        "\n",
        "data, labels = np.array(data), np.array(labels)\n",
        "\n",
        "s_60p, s_20p = int(len(data) * 0.6), int(len(data) * 0.2)\n",
        "\n",
        "X_train, y_train = data[:s_60p], labels[:s_60p] #60%\n",
        "X_validation, y_validation = data[s_60p: s_60p + s_20p], labels[s_60p: s_60p + s_20p]  #20%\n",
        "X_test, y_test = data[s_60p + s_20p:], labels[s_60p + s_20p:] #20%\n",
        "\n",
        "print(X_train.shape, X_test.shape)\n"
      ],
      "execution_count": 3,
      "outputs": [
        {
          "output_type": "stream",
          "text": [
            "Number of samples 600\n",
            "200\n",
            "400\n",
            "600\n",
            "(360, 540, 1080) (120, 540, 1080)\n"
          ],
          "name": "stdout"
        }
      ]
    },
    {
      "cell_type": "code",
      "metadata": {
        "colab": {
          "base_uri": "https://localhost:8080/"
        },
        "id": "BWyFxK32ba5m",
        "outputId": "d52a3633-033a-45bb-dbff-317865491773"
      },
      "source": [
        "print(X_validation.shape, y_validation.shape)"
      ],
      "execution_count": 4,
      "outputs": [
        {
          "output_type": "stream",
          "text": [
            "(120, 540, 1080) (120,)\n"
          ],
          "name": "stdout"
        }
      ]
    },
    {
      "cell_type": "code",
      "metadata": {
        "id": "Iy92AgBBgEph"
      },
      "source": [
        ""
      ],
      "execution_count": 4,
      "outputs": []
    },
    {
      "cell_type": "code",
      "metadata": {
        "colab": {
          "base_uri": "https://localhost:8080/"
        },
        "id": "-W2uiiAebBde",
        "outputId": "e96a0901-0af4-43d2-d2ea-9c8f89597e48"
      },
      "source": [
        "X_train = X_train.reshape(X_train.shape[0], 540, 1080,1)\n",
        "X_test = X_test.reshape(X_test.shape[0], 540, 1080, 1)\n",
        "X_validation = X_validation.reshape(X_validation.shape[0], 540, 1080, 1)\n",
        "\n",
        "print('Dataset has been loaded succesfully.')\n",
        "print(X_train.shape, y_train.shape)\n",
        "print(X_validation.shape, y_validation.shape)\n",
        "\n",
        "print(to_categorical(y_train).shape)\n",
        "print(to_categorical(y_validation).shape)\n",
        "print(X_train.shape[1:])\n",
        "\n",
        "epochs = 30\n",
        "\n",
        "model = Sequential([\n",
        "        Conv2D(32, (3, 3), input_shape=(540, 1080, 1)),\n",
        "        Activation('relu'),\n",
        "        Conv2D(32, (3, 3)),\n",
        "        Activation('relu'),\n",
        "        MaxPooling2D(pool_size=(3, 3)),\n",
        "        Dropout(0.25),\n",
        "\n",
        "        Conv2D(64, (3,3), padding='same'),\n",
        "        Activation('relu'),\n",
        "        Conv2D(64, (3, 3)),\n",
        "        Activation('relu'),\n",
        "        MaxPooling2D(pool_size=(3, 3)),\n",
        "        Dropout(0.25),\n",
        "\n",
        "        Conv2D(128, (3, 3), padding='same'),\n",
        "        Activation('relu'),\n",
        "        Conv2D(128, (3, 3)),\n",
        "        Activation('relu'),\n",
        "        MaxPooling2D(pool_size=(3, 3)),\n",
        "        Dropout(0.25),\n",
        "\n",
        "        Flatten(),\n",
        "        Dense(128),\n",
        "        Activation('relu'),\n",
        "        Dropout(0.5),\n",
        "        Dense(number_of_classes),\n",
        "        Activation('softmax')\n",
        "    ])\n",
        "\n",
        "model.compile('adam', loss='categorical_crossentropy', metrics=['accuracy'])\n",
        "print(model.summary())\n",
        "\n",
        "print('Fitting started...')\n",
        "history = model.fit(X_train, to_categorical(y_train), epochs=epochs, validation_data=(X_validation, to_categorical(y_validation)))\n",
        "\n"
      ],
      "execution_count": 5,
      "outputs": [
        {
          "output_type": "stream",
          "text": [
            "Dataset has been loaded succesfully.\n",
            "(360, 540, 1080, 1) (360,)\n",
            "(120, 540, 1080, 1) (120,)\n",
            "(360, 6)\n",
            "(120, 6)\n",
            "(540, 1080, 1)\n",
            "Model: \"sequential\"\n",
            "_________________________________________________________________\n",
            "Layer (type)                 Output Shape              Param #   \n",
            "=================================================================\n",
            "conv2d (Conv2D)              (None, 538, 1078, 32)     320       \n",
            "_________________________________________________________________\n",
            "activation (Activation)      (None, 538, 1078, 32)     0         \n",
            "_________________________________________________________________\n",
            "conv2d_1 (Conv2D)            (None, 536, 1076, 32)     9248      \n",
            "_________________________________________________________________\n",
            "activation_1 (Activation)    (None, 536, 1076, 32)     0         \n",
            "_________________________________________________________________\n",
            "max_pooling2d (MaxPooling2D) (None, 178, 358, 32)      0         \n",
            "_________________________________________________________________\n",
            "dropout (Dropout)            (None, 178, 358, 32)      0         \n",
            "_________________________________________________________________\n",
            "conv2d_2 (Conv2D)            (None, 178, 358, 64)      18496     \n",
            "_________________________________________________________________\n",
            "activation_2 (Activation)    (None, 178, 358, 64)      0         \n",
            "_________________________________________________________________\n",
            "conv2d_3 (Conv2D)            (None, 176, 356, 64)      36928     \n",
            "_________________________________________________________________\n",
            "activation_3 (Activation)    (None, 176, 356, 64)      0         \n",
            "_________________________________________________________________\n",
            "max_pooling2d_1 (MaxPooling2 (None, 58, 118, 64)       0         \n",
            "_________________________________________________________________\n",
            "dropout_1 (Dropout)          (None, 58, 118, 64)       0         \n",
            "_________________________________________________________________\n",
            "conv2d_4 (Conv2D)            (None, 58, 118, 128)      73856     \n",
            "_________________________________________________________________\n",
            "activation_4 (Activation)    (None, 58, 118, 128)      0         \n",
            "_________________________________________________________________\n",
            "conv2d_5 (Conv2D)            (None, 56, 116, 128)      147584    \n",
            "_________________________________________________________________\n",
            "activation_5 (Activation)    (None, 56, 116, 128)      0         \n",
            "_________________________________________________________________\n",
            "max_pooling2d_2 (MaxPooling2 (None, 18, 38, 128)       0         \n",
            "_________________________________________________________________\n",
            "dropout_2 (Dropout)          (None, 18, 38, 128)       0         \n",
            "_________________________________________________________________\n",
            "flatten (Flatten)            (None, 87552)             0         \n",
            "_________________________________________________________________\n",
            "dense (Dense)                (None, 128)               11206784  \n",
            "_________________________________________________________________\n",
            "activation_6 (Activation)    (None, 128)               0         \n",
            "_________________________________________________________________\n",
            "dropout_3 (Dropout)          (None, 128)               0         \n",
            "_________________________________________________________________\n",
            "dense_1 (Dense)              (None, 6)                 774       \n",
            "_________________________________________________________________\n",
            "activation_7 (Activation)    (None, 6)                 0         \n",
            "=================================================================\n",
            "Total params: 11,493,990\n",
            "Trainable params: 11,493,990\n",
            "Non-trainable params: 0\n",
            "_________________________________________________________________\n",
            "None\n",
            "Fitting started...\n",
            "Epoch 1/30\n",
            "12/12 [==============================] - 828s 67s/step - loss: 2.2948 - accuracy: 0.1787 - val_loss: 1.7985 - val_accuracy: 0.1417\n",
            "Epoch 2/30\n",
            "12/12 [==============================] - 835s 70s/step - loss: 1.7934 - accuracy: 0.1892 - val_loss: 1.7900 - val_accuracy: 0.1500\n",
            "Epoch 3/30\n",
            "12/12 [==============================] - 837s 70s/step - loss: 1.7808 - accuracy: 0.2036 - val_loss: 1.7166 - val_accuracy: 0.3000\n",
            "Epoch 4/30\n",
            "12/12 [==============================] - 836s 70s/step - loss: 1.7390 - accuracy: 0.2792 - val_loss: 1.5918 - val_accuracy: 0.4917\n",
            "Epoch 5/30\n",
            "12/12 [==============================] - 821s 69s/step - loss: 1.5956 - accuracy: 0.3752 - val_loss: 1.3686 - val_accuracy: 0.5333\n",
            "Epoch 6/30\n",
            "12/12 [==============================] - 821s 69s/step - loss: 1.3288 - accuracy: 0.4498 - val_loss: 1.1500 - val_accuracy: 0.5750\n",
            "Epoch 7/30\n",
            "12/12 [==============================] - 834s 70s/step - loss: 1.2465 - accuracy: 0.4992 - val_loss: 1.0673 - val_accuracy: 0.6333\n",
            "Epoch 8/30\n",
            "12/12 [==============================] - 830s 69s/step - loss: 1.0706 - accuracy: 0.6139 - val_loss: 0.8537 - val_accuracy: 0.7083\n",
            "Epoch 9/30\n",
            "12/12 [==============================] - 829s 69s/step - loss: 0.7975 - accuracy: 0.7186 - val_loss: 0.6244 - val_accuracy: 0.7583\n",
            "Epoch 10/30\n",
            "12/12 [==============================] - 831s 69s/step - loss: 0.5712 - accuracy: 0.7933 - val_loss: 0.3536 - val_accuracy: 0.8750\n",
            "Epoch 11/30\n",
            "12/12 [==============================] - 829s 69s/step - loss: 0.4287 - accuracy: 0.8451 - val_loss: 0.3099 - val_accuracy: 0.9000\n",
            "Epoch 12/30\n",
            "12/12 [==============================] - 833s 70s/step - loss: 0.3388 - accuracy: 0.8715 - val_loss: 0.3042 - val_accuracy: 0.9000\n",
            "Epoch 13/30\n",
            "12/12 [==============================] - 826s 69s/step - loss: 0.3661 - accuracy: 0.8762 - val_loss: 0.1645 - val_accuracy: 0.9500\n",
            "Epoch 14/30\n",
            "12/12 [==============================] - 831s 69s/step - loss: 0.2531 - accuracy: 0.9180 - val_loss: 0.1773 - val_accuracy: 0.9500\n",
            "Epoch 15/30\n",
            "12/12 [==============================] - 832s 69s/step - loss: 0.1930 - accuracy: 0.9466 - val_loss: 0.2428 - val_accuracy: 0.9083\n",
            "Epoch 16/30\n",
            "12/12 [==============================] - 833s 70s/step - loss: 0.2002 - accuracy: 0.9299 - val_loss: 0.0947 - val_accuracy: 0.9583\n",
            "Epoch 17/30\n",
            "12/12 [==============================] - 848s 71s/step - loss: 0.2264 - accuracy: 0.9185 - val_loss: 0.0600 - val_accuracy: 0.9917\n",
            "Epoch 18/30\n",
            "12/12 [==============================] - 840s 70s/step - loss: 0.1820 - accuracy: 0.9321 - val_loss: 0.1194 - val_accuracy: 0.9500\n",
            "Epoch 19/30\n",
            "12/12 [==============================] - 835s 70s/step - loss: 0.1623 - accuracy: 0.9268 - val_loss: 0.0621 - val_accuracy: 0.9667\n",
            "Epoch 20/30\n",
            "12/12 [==============================] - 855s 72s/step - loss: 0.1998 - accuracy: 0.9333 - val_loss: 0.0518 - val_accuracy: 0.9750\n",
            "Epoch 21/30\n",
            "12/12 [==============================] - 906s 76s/step - loss: 0.2379 - accuracy: 0.9225 - val_loss: 0.1336 - val_accuracy: 0.9500\n",
            "Epoch 22/30\n",
            "12/12 [==============================] - 871s 73s/step - loss: 0.2067 - accuracy: 0.9251 - val_loss: 0.0831 - val_accuracy: 0.9750\n",
            "Epoch 23/30\n",
            "12/12 [==============================] - 843s 70s/step - loss: 0.1224 - accuracy: 0.9632 - val_loss: 0.0312 - val_accuracy: 0.9833\n",
            "Epoch 24/30\n",
            "12/12 [==============================] - 829s 69s/step - loss: 0.1788 - accuracy: 0.9502 - val_loss: 0.1110 - val_accuracy: 0.9500\n",
            "Epoch 25/30\n",
            "12/12 [==============================] - 827s 69s/step - loss: 0.1674 - accuracy: 0.9580 - val_loss: 0.0418 - val_accuracy: 0.9917\n",
            "Epoch 26/30\n",
            "12/12 [==============================] - 826s 69s/step - loss: 0.0936 - accuracy: 0.9716 - val_loss: 0.0357 - val_accuracy: 0.9917\n",
            "Epoch 27/30\n",
            "12/12 [==============================] - 829s 69s/step - loss: 0.1142 - accuracy: 0.9525 - val_loss: 0.0956 - val_accuracy: 0.9750\n",
            "Epoch 28/30\n",
            "12/12 [==============================] - 842s 70s/step - loss: 0.1053 - accuracy: 0.9649 - val_loss: 0.0589 - val_accuracy: 0.9750\n",
            "Epoch 29/30\n",
            "12/12 [==============================] - 833s 70s/step - loss: 0.0628 - accuracy: 0.9862 - val_loss: 0.0687 - val_accuracy: 0.9833\n",
            "Epoch 30/30\n",
            "12/12 [==============================] - 836s 70s/step - loss: 0.0637 - accuracy: 0.9763 - val_loss: 0.1009 - val_accuracy: 0.9667\n"
          ],
          "name": "stdout"
        }
      ]
    },
    {
      "cell_type": "code",
      "metadata": {
        "colab": {
          "base_uri": "https://localhost:8080/",
          "height": 610
        },
        "id": "MqN7VAMlCGwX",
        "outputId": "98d40585-f251-4f34-dac8-95a336351a7b"
      },
      "source": [
        "#model accuracy\n",
        "print(history.history)\n",
        "plt.plot(history.history['accuracy'])\n",
        "plt.plot(history.history['val_accuracy'])\n",
        "plt.title('Model accuracy')\n",
        "plt.ylabel('Accuracy')\n",
        "plt.xlabel('Epoch')\n",
        "plt.legend(['Train', 'Valid'], loc='upper left')\n",
        "plt.show()\n",
        "\n",
        "#model loss\n",
        "plt.plot(history.history['loss'])\n",
        "plt.plot(history.history['val_loss'])\n",
        "plt.title('Model loss')\n",
        "plt.ylabel('Loss')\n",
        "plt.xlabel('Epoch')\n",
        "plt.legend(['Train', 'Valid'], loc='upper left')\n",
        "plt.show()"
      ],
      "execution_count": 8,
      "outputs": [
        {
          "output_type": "stream",
          "text": [
            "{'loss': [2.055436611175537, 1.7896636724472046, 1.765073299407959, 1.711614966392517, 1.5625436305999756, 1.302616000175476, 1.2454659938812256, 1.0167279243469238, 0.7772990465164185, 0.5574911832809448, 0.4082548916339874, 0.3696330487728119, 0.3548458218574524, 0.2966839671134949, 0.21690914034843445, 0.1860852837562561, 0.23616263270378113, 0.21022464334964752, 0.15076428651809692, 0.16679292917251587, 0.2111634612083435, 0.19883087277412415, 0.11561667919158936, 0.1742481142282486, 0.17005528509616852, 0.0804564505815506, 0.11167585849761963, 0.1033235639333725, 0.06578836590051651, 0.047787804156541824], 'accuracy': [0.18611110746860504, 0.20277777314186096, 0.2222222238779068, 0.28611111640930176, 0.3777777850627899, 0.4833333194255829, 0.5, 0.6222222447395325, 0.7138888835906982, 0.8055555820465088, 0.8416666388511658, 0.875, 0.8694444298744202, 0.8888888955116272, 0.9361110925674438, 0.9361110925674438, 0.9166666865348816, 0.9166666865348816, 0.9388889074325562, 0.9388889074325562, 0.9277777671813965, 0.9277777671813965, 0.9666666388511658, 0.949999988079071, 0.949999988079071, 0.9750000238418579, 0.9555555582046509, 0.9611111283302307, 0.9833333492279053, 0.9833333492279053], 'val_loss': [1.7985187768936157, 1.7900192737579346, 1.716602087020874, 1.5918105840682983, 1.3685625791549683, 1.1500335931777954, 1.067305088043213, 0.8537128567695618, 0.6244399547576904, 0.35361039638519287, 0.30987900495529175, 0.30421245098114014, 0.16451498866081238, 0.177296981215477, 0.24277451634407043, 0.0947364941239357, 0.05998065322637558, 0.11942944675683975, 0.062110353261232376, 0.051765989512205124, 0.1336366981267929, 0.08314221352338791, 0.031192271038889885, 0.11097563803195953, 0.041802361607551575, 0.03566131740808487, 0.09563712030649185, 0.058854229748249054, 0.06866981089115143, 0.10093910247087479], 'val_accuracy': [0.14166666567325592, 0.15000000596046448, 0.30000001192092896, 0.49166667461395264, 0.5333333611488342, 0.574999988079071, 0.6333333253860474, 0.7083333134651184, 0.7583333253860474, 0.875, 0.8999999761581421, 0.8999999761581421, 0.949999988079071, 0.949999988079071, 0.9083333611488342, 0.9583333134651184, 0.9916666746139526, 0.949999988079071, 0.9666666388511658, 0.9750000238418579, 0.949999988079071, 0.9750000238418579, 0.9833333492279053, 0.949999988079071, 0.9916666746139526, 0.9916666746139526, 0.9750000238418579, 0.9750000238418579, 0.9833333492279053, 0.9666666388511658]}\n"
          ],
          "name": "stdout"
        },
        {
          "output_type": "display_data",
          "data": {
            "image/png": "[encoded data removed]",
            "text/plain": [
              "<Figure size 432x288 with 1 Axes>"
            ]
          },
          "metadata": {
            "tags": [],
            "needs_background": "light"
          }
        },
        {
          "output_type": "display_data",
          "data": {
            "image/png": "[encoded data removed]",
            "text/plain": [
              "<Figure size 432x288 with 1 Axes>"
            ]
          },
          "metadata": {
            "tags": [],
            "needs_background": "light"
          }
        }
      ]
    },
    {
      "cell_type": "code",
      "metadata": {
        "id": "OGcKsVW0aIPw",
        "outputId": "95ee6b31-6d9d-43b1-ec2b-de73120a53bf",
        "colab": {
          "base_uri": "https://localhost:8080/"
        }
      },
      "source": [
        "scores = model.evaluate(X_test, to_categorical(y_test), verbose=1)\n",
        "print(scores)"
      ],
      "execution_count": 21,
      "outputs": [
        {
          "output_type": "stream",
          "text": [
            "4/4 [==============================] - 57s 14s/step - loss: 0.0242 - accuracy: 0.9917\n",
            "[0.024248041212558746, 0.9916666746139526]\n"
          ],
          "name": "stdout"
        }
      ]
    }
  ]
}